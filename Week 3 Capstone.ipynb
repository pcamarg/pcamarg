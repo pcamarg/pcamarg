{
 "cells": [
  {
   "cell_type": "markdown",
   "metadata": {},
   "source": [
    "# Week 3 - Neighborhoods of São Paulo\n"
   ]
  },
  {
   "cell_type": "markdown",
   "metadata": {},
   "source": [
    "## Introduction/Business Problem "
   ]
  },
  {
   "cell_type": "markdown",
   "metadata": {},
   "source": [
    "The City of São Paulo, is the most populous city in Brazil. It is the financial capital of Brazil. Many travelers do not know the city very well and had trouble finding the best places to stay, when visiting the city. This projects aims to help find hotels, restaurants that are closed to the main place that the visitor was interested in the first place and will try to help find the best hotel to meet his needs."
   ]
  },
  {
   "cell_type": "markdown",
   "metadata": {},
   "source": [
    "# Data Section"
   ]
  },
  {
   "cell_type": "markdown",
   "metadata": {},
   "source": [
    "For this project will use the data available in the site \"http://dados.prefeitura.sp.gov.br/\", who provides a rich source of data from the site in csv files and other formats. Due to the good amount of data available we can make a powerfull code to address the problem. I will devide the city in 8 main regions and then sort the busiest places in the city and try to locate hotels nearby this areas and then offer the user to set a location that he was already interested to find the best match for hes needs."
   ]
  },
  {
   "cell_type": "code",
   "execution_count": null,
   "metadata": {},
   "outputs": [],
   "source": []
  }
 ],
 "metadata": {
  "kernelspec": {
   "display_name": "Python",
   "language": "python",
   "name": "conda-env-python-py"
  },
  "language_info": {
   "codemirror_mode": {
    "name": "ipython",
    "version": 3
   },
   "file_extension": ".py",
   "mimetype": "text/x-python",
   "name": "python",
   "nbconvert_exporter": "python",
   "pygments_lexer": "ipython3",
   "version": "3.6.10"
  }
 },
 "nbformat": 4,
 "nbformat_minor": 4
}
