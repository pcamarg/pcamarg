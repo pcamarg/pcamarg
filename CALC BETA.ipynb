{
 "cells": [
  {
   "cell_type": "code",
   "execution_count": 9,
   "metadata": {},
   "outputs": [],
   "source": [
    "#Busca dados de ações no yahoo finance e realiza calculo de beta"
   ]
  },
  {
   "cell_type": "code",
   "execution_count": 2,
   "metadata": {},
   "outputs": [
    {
     "name": "stdout",
     "output_type": "stream",
     "text": [
      "Collecting yfinance\n",
      "  Downloading https://files.pythonhosted.org/packages/c2/31/8b374a12b90def92a4e27d0fc595fc43635f395984e36a075244d98bd265/yfinance-0.1.54.tar.gz\n",
      "Requirement already satisfied: pandas>=0.24 in /home/jupyterlab/conda/envs/python/lib/python3.6/site-packages (from yfinance) (1.0.5)\n",
      "Requirement already satisfied: numpy>=1.15 in /home/jupyterlab/conda/envs/python/lib/python3.6/site-packages (from yfinance) (1.18.5)\n",
      "Requirement already satisfied: requests>=2.20 in /home/jupyterlab/conda/envs/python/lib/python3.6/site-packages (from yfinance) (2.24.0)\n",
      "Collecting multitasking>=0.0.7 (from yfinance)\n",
      "  Downloading https://files.pythonhosted.org/packages/69/e7/e9f1661c28f7b87abfa08cb0e8f51dad2240a9f4f741f02ea839835e6d18/multitasking-0.0.9.tar.gz\n",
      "Requirement already satisfied: pytz>=2017.2 in /home/jupyterlab/conda/envs/python/lib/python3.6/site-packages (from pandas>=0.24->yfinance) (2020.1)\n",
      "Requirement already satisfied: python-dateutil>=2.6.1 in /home/jupyterlab/conda/envs/python/lib/python3.6/site-packages (from pandas>=0.24->yfinance) (2.8.1)\n",
      "Requirement already satisfied: chardet<4,>=3.0.2 in /home/jupyterlab/conda/envs/python/lib/python3.6/site-packages (from requests>=2.20->yfinance) (3.0.4)\n",
      "Requirement already satisfied: urllib3!=1.25.0,!=1.25.1,<1.26,>=1.21.1 in /home/jupyterlab/conda/envs/python/lib/python3.6/site-packages (from requests>=2.20->yfinance) (1.25.9)\n",
      "Requirement already satisfied: certifi>=2017.4.17 in /home/jupyterlab/conda/envs/python/lib/python3.6/site-packages (from requests>=2.20->yfinance) (2020.6.20)\n",
      "Requirement already satisfied: idna<3,>=2.5 in /home/jupyterlab/conda/envs/python/lib/python3.6/site-packages (from requests>=2.20->yfinance) (2.10)\n",
      "Requirement already satisfied: six>=1.5 in /home/jupyterlab/conda/envs/python/lib/python3.6/site-packages (from python-dateutil>=2.6.1->pandas>=0.24->yfinance) (1.15.0)\n",
      "Building wheels for collected packages: yfinance, multitasking\n",
      "  Building wheel for yfinance (setup.py) ... \u001b[?25ldone\n",
      "\u001b[?25h  Stored in directory: /home/jupyterlab/.cache/pip/wheels/f9/e3/5b/ec24dd2984b12d61e0abf26289746c2436a0e7844f26f2515c\n",
      "  Building wheel for multitasking (setup.py) ... \u001b[?25ldone\n",
      "\u001b[?25h  Stored in directory: /home/jupyterlab/.cache/pip/wheels/37/fa/73/d492849e319038eb4d986f5152e4b19ffb1bc0639da84d2677\n",
      "Successfully built yfinance multitasking\n",
      "Installing collected packages: multitasking, yfinance\n",
      "Successfully installed multitasking-0.0.9 yfinance-0.1.54\n",
      "Collecting pandas-datareader\n",
      "\u001b[?25l  Downloading https://files.pythonhosted.org/packages/22/f1/a02eea03628865c3d4c29849cda8c8a73f43358048aee47d79dfbfa6c6c3/pandas_datareader-0.9.0-py3-none-any.whl (107kB)\n",
      "\u001b[K     |████████████████████████████████| 112kB 5.4MB/s eta 0:00:01\n",
      "\u001b[?25hCollecting lxml (from pandas-datareader)\n",
      "\u001b[?25l  Downloading https://files.pythonhosted.org/packages/79/37/d420b7fdc9a550bd29b8cfeacff3b38502d9600b09d7dfae9a69e623b891/lxml-4.5.2-cp36-cp36m-manylinux1_x86_64.whl (5.5MB)\n",
      "\u001b[K     |████████████████████████████████| 5.5MB 6.0MB/s eta 0:00:01\n",
      "\u001b[?25hRequirement already satisfied: requests>=2.19.0 in /home/jupyterlab/conda/envs/python/lib/python3.6/site-packages (from pandas-datareader) (2.24.0)\n",
      "Requirement already satisfied: pandas>=0.23 in /home/jupyterlab/conda/envs/python/lib/python3.6/site-packages (from pandas-datareader) (1.0.5)\n",
      "Requirement already satisfied: certifi>=2017.4.17 in /home/jupyterlab/conda/envs/python/lib/python3.6/site-packages (from requests>=2.19.0->pandas-datareader) (2020.6.20)\n",
      "Requirement already satisfied: chardet<4,>=3.0.2 in /home/jupyterlab/conda/envs/python/lib/python3.6/site-packages (from requests>=2.19.0->pandas-datareader) (3.0.4)\n",
      "Requirement already satisfied: urllib3!=1.25.0,!=1.25.1,<1.26,>=1.21.1 in /home/jupyterlab/conda/envs/python/lib/python3.6/site-packages (from requests>=2.19.0->pandas-datareader) (1.25.9)\n",
      "Requirement already satisfied: idna<3,>=2.5 in /home/jupyterlab/conda/envs/python/lib/python3.6/site-packages (from requests>=2.19.0->pandas-datareader) (2.10)\n",
      "Requirement already satisfied: pytz>=2017.2 in /home/jupyterlab/conda/envs/python/lib/python3.6/site-packages (from pandas>=0.23->pandas-datareader) (2020.1)\n",
      "Requirement already satisfied: python-dateutil>=2.6.1 in /home/jupyterlab/conda/envs/python/lib/python3.6/site-packages (from pandas>=0.23->pandas-datareader) (2.8.1)\n",
      "Requirement already satisfied: numpy>=1.13.3 in /home/jupyterlab/conda/envs/python/lib/python3.6/site-packages (from pandas>=0.23->pandas-datareader) (1.18.5)\n",
      "Requirement already satisfied: six>=1.5 in /home/jupyterlab/conda/envs/python/lib/python3.6/site-packages (from python-dateutil>=2.6.1->pandas>=0.23->pandas-datareader) (1.15.0)\n",
      "Installing collected packages: lxml, pandas-datareader\n",
      "Successfully installed lxml-4.5.2 pandas-datareader-0.9.0\n"
     ]
    }
   ],
   "source": [
    "! pip install yfinance\n",
    "! pip install pandas-datareader\n",
    "\n",
    "import numpy as np\n",
    "import pandas as pd\n",
    "from pandas_datareader import data as pdr\n",
    "import matplotlib.pyplot as plt\n",
    "import seaborn as sns\n",
    "%matplotlib inline\n",
    "import yfinance as yf \n",
    "yf.pdr_override() \n",
    "sns.set()"
   ]
  },
  {
   "cell_type": "code",
   "execution_count": 3,
   "metadata": {},
   "outputs": [
    {
     "name": "stdout",
     "output_type": "stream",
     "text": [
      "[*********************100%***********************]  10 of 10 completed\n",
      "[*********************100%***********************]  10 of 10 completed\n"
     ]
    }
   ],
   "source": [
    "stock =['MOVI3.SA', 'TRIS3.SA', 'CNTO3.SA','^BVSP','CAML3.SA','PRIO3.SA','VALE3.SA','MGLU3.SA','ENAT3.SA','PETR3.SA']\n",
    "start = pd.to_datetime('2020-03-15') \n",
    "end = pd.to_datetime('2020-07-10')\n",
    "data = pdr.get_data_yahoo(stock, start=start, end=end)['Adj Close']\n",
    "complete_data = pdr.get_data_yahoo(stock, start=start, end=end)\n",
    "daily_returns = (data/data.shift(1))-1\n",
    "returns = np.log(data/data.shift(1))"
   ]
  },
  {
   "cell_type": "code",
   "execution_count": 4,
   "metadata": {},
   "outputs": [
    {
     "data": {
      "text/html": [
       "<div>\n",
       "<style scoped>\n",
       "    .dataframe tbody tr th:only-of-type {\n",
       "        vertical-align: middle;\n",
       "    }\n",
       "\n",
       "    .dataframe tbody tr th {\n",
       "        vertical-align: top;\n",
       "    }\n",
       "\n",
       "    .dataframe thead th {\n",
       "        text-align: right;\n",
       "    }\n",
       "</style>\n",
       "<table border=\"1\" class=\"dataframe\">\n",
       "  <thead>\n",
       "    <tr style=\"text-align: right;\">\n",
       "      <th></th>\n",
       "      <th>CAML3.SA</th>\n",
       "      <th>CNTO3.SA</th>\n",
       "      <th>ENAT3.SA</th>\n",
       "      <th>MGLU3.SA</th>\n",
       "      <th>MOVI3.SA</th>\n",
       "      <th>PETR3.SA</th>\n",
       "      <th>PRIO3.SA</th>\n",
       "      <th>TRIS3.SA</th>\n",
       "      <th>VALE3.SA</th>\n",
       "      <th>^BVSP</th>\n",
       "    </tr>\n",
       "  </thead>\n",
       "  <tbody>\n",
       "    <tr>\n",
       "      <th>CAML3.SA</th>\n",
       "      <td>0.207969</td>\n",
       "      <td>0.063422</td>\n",
       "      <td>0.053174</td>\n",
       "      <td>0.076563</td>\n",
       "      <td>0.083615</td>\n",
       "      <td>0.072935</td>\n",
       "      <td>0.032546</td>\n",
       "      <td>0.057655</td>\n",
       "      <td>0.072955</td>\n",
       "      <td>0.080463</td>\n",
       "    </tr>\n",
       "    <tr>\n",
       "      <th>CNTO3.SA</th>\n",
       "      <td>0.063422</td>\n",
       "      <td>1.252478</td>\n",
       "      <td>0.525551</td>\n",
       "      <td>0.533980</td>\n",
       "      <td>0.692148</td>\n",
       "      <td>0.478265</td>\n",
       "      <td>0.910250</td>\n",
       "      <td>0.904565</td>\n",
       "      <td>0.157717</td>\n",
       "      <td>0.368194</td>\n",
       "    </tr>\n",
       "    <tr>\n",
       "      <th>ENAT3.SA</th>\n",
       "      <td>0.053174</td>\n",
       "      <td>0.525551</td>\n",
       "      <td>0.749956</td>\n",
       "      <td>0.206980</td>\n",
       "      <td>0.440373</td>\n",
       "      <td>0.340581</td>\n",
       "      <td>0.625870</td>\n",
       "      <td>0.544347</td>\n",
       "      <td>0.062358</td>\n",
       "      <td>0.195613</td>\n",
       "    </tr>\n",
       "    <tr>\n",
       "      <th>MGLU3.SA</th>\n",
       "      <td>0.076563</td>\n",
       "      <td>0.533980</td>\n",
       "      <td>0.206980</td>\n",
       "      <td>0.553936</td>\n",
       "      <td>0.368433</td>\n",
       "      <td>0.256582</td>\n",
       "      <td>0.402303</td>\n",
       "      <td>0.490168</td>\n",
       "      <td>0.139018</td>\n",
       "      <td>0.229061</td>\n",
       "    </tr>\n",
       "    <tr>\n",
       "      <th>MOVI3.SA</th>\n",
       "      <td>0.083615</td>\n",
       "      <td>0.692148</td>\n",
       "      <td>0.440373</td>\n",
       "      <td>0.368433</td>\n",
       "      <td>0.850066</td>\n",
       "      <td>0.384443</td>\n",
       "      <td>0.749423</td>\n",
       "      <td>0.762291</td>\n",
       "      <td>0.145594</td>\n",
       "      <td>0.325398</td>\n",
       "    </tr>\n",
       "    <tr>\n",
       "      <th>PETR3.SA</th>\n",
       "      <td>0.072935</td>\n",
       "      <td>0.478265</td>\n",
       "      <td>0.340581</td>\n",
       "      <td>0.256582</td>\n",
       "      <td>0.384443</td>\n",
       "      <td>0.526646</td>\n",
       "      <td>0.635261</td>\n",
       "      <td>0.486659</td>\n",
       "      <td>0.195967</td>\n",
       "      <td>0.273140</td>\n",
       "    </tr>\n",
       "    <tr>\n",
       "      <th>PRIO3.SA</th>\n",
       "      <td>0.032546</td>\n",
       "      <td>0.910250</td>\n",
       "      <td>0.625870</td>\n",
       "      <td>0.402303</td>\n",
       "      <td>0.749423</td>\n",
       "      <td>0.635261</td>\n",
       "      <td>1.646211</td>\n",
       "      <td>0.727045</td>\n",
       "      <td>0.242332</td>\n",
       "      <td>0.394999</td>\n",
       "    </tr>\n",
       "    <tr>\n",
       "      <th>TRIS3.SA</th>\n",
       "      <td>0.057655</td>\n",
       "      <td>0.904565</td>\n",
       "      <td>0.544347</td>\n",
       "      <td>0.490168</td>\n",
       "      <td>0.762291</td>\n",
       "      <td>0.486659</td>\n",
       "      <td>0.727045</td>\n",
       "      <td>1.255176</td>\n",
       "      <td>0.097167</td>\n",
       "      <td>0.361986</td>\n",
       "    </tr>\n",
       "    <tr>\n",
       "      <th>VALE3.SA</th>\n",
       "      <td>0.072955</td>\n",
       "      <td>0.157717</td>\n",
       "      <td>0.062358</td>\n",
       "      <td>0.139018</td>\n",
       "      <td>0.145594</td>\n",
       "      <td>0.195967</td>\n",
       "      <td>0.242332</td>\n",
       "      <td>0.097167</td>\n",
       "      <td>0.242264</td>\n",
       "      <td>0.154123</td>\n",
       "    </tr>\n",
       "    <tr>\n",
       "      <th>^BVSP</th>\n",
       "      <td>0.080463</td>\n",
       "      <td>0.368194</td>\n",
       "      <td>0.195613</td>\n",
       "      <td>0.229061</td>\n",
       "      <td>0.325398</td>\n",
       "      <td>0.273140</td>\n",
       "      <td>0.394999</td>\n",
       "      <td>0.361986</td>\n",
       "      <td>0.154123</td>\n",
       "      <td>0.218715</td>\n",
       "    </tr>\n",
       "  </tbody>\n",
       "</table>\n",
       "</div>"
      ],
      "text/plain": [
       "          CAML3.SA  CNTO3.SA  ENAT3.SA  MGLU3.SA  MOVI3.SA  PETR3.SA  \\\n",
       "CAML3.SA  0.207969  0.063422  0.053174  0.076563  0.083615  0.072935   \n",
       "CNTO3.SA  0.063422  1.252478  0.525551  0.533980  0.692148  0.478265   \n",
       "ENAT3.SA  0.053174  0.525551  0.749956  0.206980  0.440373  0.340581   \n",
       "MGLU3.SA  0.076563  0.533980  0.206980  0.553936  0.368433  0.256582   \n",
       "MOVI3.SA  0.083615  0.692148  0.440373  0.368433  0.850066  0.384443   \n",
       "PETR3.SA  0.072935  0.478265  0.340581  0.256582  0.384443  0.526646   \n",
       "PRIO3.SA  0.032546  0.910250  0.625870  0.402303  0.749423  0.635261   \n",
       "TRIS3.SA  0.057655  0.904565  0.544347  0.490168  0.762291  0.486659   \n",
       "VALE3.SA  0.072955  0.157717  0.062358  0.139018  0.145594  0.195967   \n",
       "^BVSP     0.080463  0.368194  0.195613  0.229061  0.325398  0.273140   \n",
       "\n",
       "          PRIO3.SA  TRIS3.SA  VALE3.SA     ^BVSP  \n",
       "CAML3.SA  0.032546  0.057655  0.072955  0.080463  \n",
       "CNTO3.SA  0.910250  0.904565  0.157717  0.368194  \n",
       "ENAT3.SA  0.625870  0.544347  0.062358  0.195613  \n",
       "MGLU3.SA  0.402303  0.490168  0.139018  0.229061  \n",
       "MOVI3.SA  0.749423  0.762291  0.145594  0.325398  \n",
       "PETR3.SA  0.635261  0.486659  0.195967  0.273140  \n",
       "PRIO3.SA  1.646211  0.727045  0.242332  0.394999  \n",
       "TRIS3.SA  0.727045  1.255176  0.097167  0.361986  \n",
       "VALE3.SA  0.242332  0.097167  0.242264  0.154123  \n",
       "^BVSP     0.394999  0.361986  0.154123  0.218715  "
      ]
     },
     "execution_count": 4,
     "metadata": {},
     "output_type": "execute_result"
    }
   ],
   "source": [
    "cov = daily_returns.cov()*250\n",
    "cov"
   ]
  },
  {
   "cell_type": "code",
   "execution_count": 5,
   "metadata": {},
   "outputs": [
    {
     "data": {
      "text/plain": [
       "CAML3.SA    0.080463\n",
       "CNTO3.SA    0.368194\n",
       "ENAT3.SA    0.195613\n",
       "MGLU3.SA    0.229061\n",
       "MOVI3.SA    0.325398\n",
       "PETR3.SA    0.273140\n",
       "PRIO3.SA    0.394999\n",
       "TRIS3.SA    0.361986\n",
       "VALE3.SA    0.154123\n",
       "^BVSP       0.218715\n",
       "Name: ^BVSP, dtype: float64"
      ]
     },
     "execution_count": 5,
     "metadata": {},
     "output_type": "execute_result"
    }
   ],
   "source": [
    "#SEMPRE TRAVAR A COLUNA QUE O IBOVESPA ESTIVER\n",
    "cov_mercado = cov.iloc[9,:]\n",
    "cov_mercado"
   ]
  },
  {
   "cell_type": "code",
   "execution_count": 6,
   "metadata": {},
   "outputs": [
    {
     "data": {
      "text/plain": [
       "0.21871461605915812"
      ]
     },
     "execution_count": 6,
     "metadata": {},
     "output_type": "execute_result"
    }
   ],
   "source": [
    "var_mercado = daily_returns['^BVSP'].var()*250\n",
    "var_mercado"
   ]
  },
  {
   "cell_type": "code",
   "execution_count": 7,
   "metadata": {},
   "outputs": [
    {
     "data": {
      "text/plain": [
       "CAML3.SA    0.367888\n",
       "CNTO3.SA    1.683445\n",
       "ENAT3.SA    0.894378\n",
       "MGLU3.SA    1.047305\n",
       "MOVI3.SA    1.487773\n",
       "PETR3.SA    1.248842\n",
       "PRIO3.SA    1.806003\n",
       "TRIS3.SA    1.655059\n",
       "VALE3.SA    0.704677\n",
       "^BVSP       1.000000\n",
       "Name: ^BVSP, dtype: float64"
      ]
     },
     "execution_count": 7,
     "metadata": {},
     "output_type": "execute_result"
    }
   ],
   "source": [
    "beta_acao = cov_mercado / var_mercado\n",
    "beta_acao"
   ]
  },
  {
   "cell_type": "code",
   "execution_count": 8,
   "metadata": {},
   "outputs": [
    {
     "data": {
      "text/plain": [
       "<matplotlib.axes._subplots.AxesSubplot at 0x7f6215930f98>"
      ]
     },
     "execution_count": 8,
     "metadata": {},
     "output_type": "execute_result"
    },
    {
     "data": {
      "image/png": "[encoded data removed]",
      "text/plain": [
       "<Figure size 1440x720 with 1 Axes>"
      ]
     },
     "metadata": {},
     "output_type": "display_data"
    }
   ],
   "source": [
    "import matplotlib.pyplot as plt\n",
    "plt.style.use('seaborn-white')\n",
    "plt.figure(figsize=(20,10))\n",
    "plt.xlabel('Papel', fontsize=20)\n",
    "plt.ylabel('Beta', fontsize=20)\n",
    "beta_acao.plot.bar(fontsize=15)\n"
   ]
  },
  {
   "cell_type": "code",
   "execution_count": null,
   "metadata": {},
   "outputs": [],
   "source": []
  },
  {
   "cell_type": "code",
   "execution_count": null,
   "metadata": {},
   "outputs": [],
   "source": []
  }
 ],
 "metadata": {
  "kernelspec": {
   "display_name": "Python",
   "language": "python",
   "name": "conda-env-python-py"
  },
  "language_info": {
   "codemirror_mode": {
    "name": "ipython",
    "version": 3
   },
   "file_extension": ".py",
   "mimetype": "text/x-python",
   "name": "python",
   "nbconvert_exporter": "python",
   "pygments_lexer": "ipython3",
   "version": "3.6.10"
  }
 },
 "nbformat": 4,
 "nbformat_minor": 4
}
